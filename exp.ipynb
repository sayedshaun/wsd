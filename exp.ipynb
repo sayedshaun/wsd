{
 "cells": [
  {
   "cell_type": "code",
   "execution_count": 15,
   "id": "7beae3ab",
   "metadata": {},
   "outputs": [
    {
     "data": {
      "text/plain": [
       "0.345"
      ]
     },
     "execution_count": 15,
     "metadata": {},
     "output_type": "execute_result"
    }
   ],
   "source": [
    "x = f\"step-{50}-f1-{0.345}.pt\"\n",
    "\n",
    "float(x.split('-')[3].replace(\".pt\", \"\"))"
   ]
  },
  {
   "cell_type": "code",
   "execution_count": 12,
   "id": "0d3abd95",
   "metadata": {},
   "outputs": [
    {
     "name": "stdout",
     "output_type": "stream",
     "text": [
      "0.345\n"
     ]
    }
   ],
   "source": [
    "x = f\"step-{50}-f1-{0.345}.pt\"\n",
    "\n",
    "f1 = float(x.split('-')[3].replace('.pt', ''))\n",
    "print(f1)  # Output: 0.345"
   ]
  }
 ],
 "metadata": {
  "kernelspec": {
   "display_name": "ml",
   "language": "python",
   "name": "python3"
  },
  "language_info": {
   "codemirror_mode": {
    "name": "ipython",
    "version": 3
   },
   "file_extension": ".py",
   "mimetype": "text/x-python",
   "name": "python",
   "nbconvert_exporter": "python",
   "pygments_lexer": "ipython3",
   "version": "3.10.16"
  }
 },
 "nbformat": 4,
 "nbformat_minor": 5
}
